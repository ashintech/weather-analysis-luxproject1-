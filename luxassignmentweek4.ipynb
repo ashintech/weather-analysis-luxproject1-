{
 "cells": [
  {
   "cell_type": "code",
   "execution_count": 1,
   "id": "b5ccfa7f-84a8-4ba8-9972-a63019f3037c",
   "metadata": {},
   "outputs": [
    {
     "name": "stdout",
     "output_type": "stream",
     "text": [
      "madam is a palindrome: True\n"
     ]
    }
   ],
   "source": [
    "def is_palindrome(s):\n",
    "    stack = []\n",
    "    # Pushing all characters of the string onto the stack\n",
    "    for char in s:\n",
    "        stack.append(char)\n",
    "    \n",
    "    # Reconstruct the string by popping characters from the stack\n",
    "    reversed_s = \"\"\n",
    "    while stack:\n",
    "        reversed_s += stack.pop()\n",
    "    \n",
    "    # Check if the original string is equal to the reversed string\n",
    "    return s == reversed_s\n",
    "\n",
    "# Example usage\n",
    "string = \"madam\"\n",
    "print(f\"{string} is a palindrome: {is_palindrome(string)}\")\n"
   ]
  },
  {
   "cell_type": "code",
   "execution_count": 5,
   "id": "75340537-ea10-4382-85e9-683db45f0788",
   "metadata": {},
   "outputs": [
    {
     "name": "stdout",
     "output_type": "stream",
     "text": [
      "[0, 1, 4, 9, 16, 25, 36, 49, 64, 81]\n",
      "[0, 2, 4, 6, 8, 10, 12, 14, 16, 18]\n",
      "[1, 2, 3, 4, 5, 6, 7, 8, 9]\n"
     ]
    }
   ],
   "source": [
    "#List comprehension is a concise way to create lists in Python. It can replace the need for loops to create lists from existing data\n",
    "squares = [x ** 2 for x in range(10)]\n",
    "print(squares)  # Output: [0, 1, 4, 9, 16, 25, 36, 49, 64, 81]\n",
    "evens = [x for x in range(20) if x % 2 == 0]\n",
    "print(evens)  # Output: [0, 2, 4, 6, 8, 10, 12, 14, 16, 18]\n",
    "matrix = [[1, 2, 3], [4, 5, 6], [7, 8, 9]]\n",
    "flat = [num for row in matrix for num in row]\n",
    "print(flat)  # Output: [1, 2, 3, 4, 5, 6, 7, 8, 9]\n"
   ]
  },
  {
   "cell_type": "code",
   "execution_count": 6,
   "id": "e240a42c-c55f-4ac9-b8f0-6ea799e2186d",
   "metadata": {},
   "outputs": [
    {
     "name": "stdout",
     "output_type": "stream",
     "text": [
      "[1, 'apple', 3.14, True]\n",
      "{'name': 'Alice', 'age': 30, 'city': 'New York'}\n",
      "(10, 'banana', 7.5)\n"
     ]
    }
   ],
   "source": [
    "#A compound datatype in Python is a type that can hold multiple elements, and these elements can be of different types. Examples include lists, dictionaries, and tuples.\n",
    "my_list = [1, \"apple\", 3.14, True]\n",
    "print(my_list)  # Output: [1, 'apple', 3.14, True]\n",
    "my_dict = {\"name\": \"Alice\", \"age\": 30, \"city\": \"New York\"}\n",
    "print(my_dict)  # Output: {'name': 'Alice', 'age': 30, 'city': 'New York'}\n",
    "my_tuple = (10, \"banana\", 7.5)\n",
    "print(my_tuple)  # Output: (10, 'banana', 7.5)\n"
   ]
  },
  {
   "cell_type": "code",
   "execution_count": 7,
   "id": "23ba22a9-bbf9-4590-968e-8ed2146cfe36",
   "metadata": {},
   "outputs": [
    {
     "name": "stdout",
     "output_type": "stream",
     "text": [
      "['he', 'el', 'll', 'lo']\n"
     ]
    }
   ],
   "source": [
    "#A bigram is a sequence of two adjacent elements from a string\n",
    "def get_bigrams(s):\n",
    "    bigrams = [s[i:i+2] for i in range(len(s) - 1)]\n",
    "    return bigrams\n",
    "\n",
    "# Example usage\n",
    "string = \"hello\"\n",
    "print(get_bigrams(string))  # Output: ['he', 'el', 'll', 'lo']\n"
   ]
  },
  {
   "cell_type": "code",
   "execution_count": 8,
   "id": "f5551f8e-1a49-445d-b382-f38f3ad203d4",
   "metadata": {},
   "outputs": [
    {
     "name": "stdout",
     "output_type": "stream",
     "text": [
      "B\n"
     ]
    }
   ],
   "source": [
    "#function closest_key searches for the key where the input value is closest to the start of the list associated with that key\n",
    "def closest_key(d, value):\n",
    "    closest = None\n",
    "    for key, values in d.items():\n",
    "        if value in values:\n",
    "            index = values.index(value)\n",
    "            if closest is None or index < closest[1]:\n",
    "                closest = (key, index)\n",
    "    return closest[0] if closest else None\n",
    "\n",
    "# Example usage\n",
    "my_dict = {\n",
    "    'A': ['x', 'y', 'z'],\n",
    "    'B': ['y', 'z', 'a'],\n",
    "    'C': ['a', 'b', 'c']\n",
    "}\n",
    "\n",
    "value_to_find = 'z'\n",
    "print(closest_key(my_dict, value_to_find))  # Output: 'A'\n"
   ]
  },
  {
   "cell_type": "code",
   "execution_count": null,
   "id": "387fa745-1400-420a-bf30-52623e1ad8bb",
   "metadata": {},
   "outputs": [],
   "source": []
  }
 ],
 "metadata": {
  "kernelspec": {
   "display_name": "Python 3 (ipykernel)",
   "language": "python",
   "name": "python3"
  },
  "language_info": {
   "codemirror_mode": {
    "name": "ipython",
    "version": 3
   },
   "file_extension": ".py",
   "mimetype": "text/x-python",
   "name": "python",
   "nbconvert_exporter": "python",
   "pygments_lexer": "ipython3",
   "version": "3.11.7"
  }
 },
 "nbformat": 4,
 "nbformat_minor": 5
}
